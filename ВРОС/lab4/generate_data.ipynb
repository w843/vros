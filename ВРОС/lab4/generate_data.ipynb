{
 "cells": [
  {
   "cell_type": "code",
   "execution_count": 1,
   "metadata": {},
   "outputs": [],
   "source": [
    "import pandas as pd\n",
    "import numpy as np\n",
    "import random\n",
    "\n",
    "from tqdm.notebook import tqdm"
   ]
  },
  {
   "cell_type": "code",
   "execution_count": 2,
   "metadata": {
    "scrolled": true
   },
   "outputs": [],
   "source": [
    "from geopy.distance import geodesic"
   ]
  },
  {
   "cell_type": "code",
   "execution_count": 3,
   "metadata": {},
   "outputs": [],
   "source": [
    "import warnings\n",
    "warnings.filterwarnings('ignore')"
   ]
  },
  {
   "cell_type": "code",
   "execution_count": 4,
   "metadata": {},
   "outputs": [],
   "source": [
    "df = pd.read_csv(\"London postcodes.csv\", delimiter=',')"
   ]
  },
  {
   "cell_type": "code",
   "execution_count": 5,
   "metadata": {},
   "outputs": [
    {
     "data": {
      "text/plain": [
       "(323306, 49)"
      ]
     },
     "execution_count": 5,
     "metadata": {},
     "output_type": "execute_result"
    }
   ],
   "source": [
    "df.shape"
   ]
  },
  {
   "cell_type": "code",
   "execution_count": 6,
   "metadata": {},
   "outputs": [
    {
     "data": {
      "text/html": [
       "<div>\n",
       "<style scoped>\n",
       "    .dataframe tbody tr th:only-of-type {\n",
       "        vertical-align: middle;\n",
       "    }\n",
       "\n",
       "    .dataframe tbody tr th {\n",
       "        vertical-align: top;\n",
       "    }\n",
       "\n",
       "    .dataframe thead th {\n",
       "        text-align: right;\n",
       "    }\n",
       "</style>\n",
       "<table border=\"1\" class=\"dataframe\">\n",
       "  <thead>\n",
       "    <tr style=\"text-align: right;\">\n",
       "      <th></th>\n",
       "      <th>Postcode</th>\n",
       "      <th>In Use?</th>\n",
       "      <th>Latitude</th>\n",
       "      <th>Longitude</th>\n",
       "      <th>Easting</th>\n",
       "      <th>Northing</th>\n",
       "      <th>Grid Ref</th>\n",
       "      <th>County</th>\n",
       "      <th>District</th>\n",
       "      <th>Ward</th>\n",
       "      <th>...</th>\n",
       "      <th>Nearest station</th>\n",
       "      <th>Distance to station</th>\n",
       "      <th>Postcode area</th>\n",
       "      <th>Postcode district</th>\n",
       "      <th>Police force</th>\n",
       "      <th>Water company</th>\n",
       "      <th>Plus Code</th>\n",
       "      <th>Average Income</th>\n",
       "      <th>Sewage Company</th>\n",
       "      <th>Travel To Work Area</th>\n",
       "    </tr>\n",
       "  </thead>\n",
       "  <tbody>\n",
       "    <tr>\n",
       "      <th>0</th>\n",
       "      <td>BR1 1AA</td>\n",
       "      <td>Yes</td>\n",
       "      <td>51.401546</td>\n",
       "      <td>0.015415</td>\n",
       "      <td>540291</td>\n",
       "      <td>168873</td>\n",
       "      <td>TQ402688</td>\n",
       "      <td>Greater London</td>\n",
       "      <td>Bromley</td>\n",
       "      <td>Bromley Town</td>\n",
       "      <td>...</td>\n",
       "      <td>Bromley South</td>\n",
       "      <td>0.218257</td>\n",
       "      <td>BR</td>\n",
       "      <td>BR1</td>\n",
       "      <td>Metropolitan Police</td>\n",
       "      <td>Thames Water</td>\n",
       "      <td>9F32C228+J5</td>\n",
       "      <td>63100</td>\n",
       "      <td>NaN</td>\n",
       "      <td>London</td>\n",
       "    </tr>\n",
       "    <tr>\n",
       "      <th>1</th>\n",
       "      <td>BR1 1AB</td>\n",
       "      <td>Yes</td>\n",
       "      <td>51.406333</td>\n",
       "      <td>0.015208</td>\n",
       "      <td>540262</td>\n",
       "      <td>169405</td>\n",
       "      <td>TQ402694</td>\n",
       "      <td>Greater London</td>\n",
       "      <td>Bromley</td>\n",
       "      <td>Bromley Town</td>\n",
       "      <td>...</td>\n",
       "      <td>Bromley North</td>\n",
       "      <td>0.253666</td>\n",
       "      <td>BR</td>\n",
       "      <td>BR1</td>\n",
       "      <td>Metropolitan Police</td>\n",
       "      <td>Thames Water</td>\n",
       "      <td>9F32C248+G3</td>\n",
       "      <td>56100</td>\n",
       "      <td>NaN</td>\n",
       "      <td>London</td>\n",
       "    </tr>\n",
       "    <tr>\n",
       "      <th>2</th>\n",
       "      <td>BR1 1AD</td>\n",
       "      <td>No</td>\n",
       "      <td>51.400057</td>\n",
       "      <td>0.016715</td>\n",
       "      <td>540386</td>\n",
       "      <td>168710</td>\n",
       "      <td>TQ403687</td>\n",
       "      <td>Greater London</td>\n",
       "      <td>Bromley</td>\n",
       "      <td>Bromley Town</td>\n",
       "      <td>...</td>\n",
       "      <td>Bromley South</td>\n",
       "      <td>0.044559</td>\n",
       "      <td>BR</td>\n",
       "      <td>BR1</td>\n",
       "      <td>Metropolitan Police</td>\n",
       "      <td>NaN</td>\n",
       "      <td>9F32C228+2M</td>\n",
       "      <td>63100</td>\n",
       "      <td>NaN</td>\n",
       "      <td>London</td>\n",
       "    </tr>\n",
       "    <tr>\n",
       "      <th>3</th>\n",
       "      <td>BR1 1AE</td>\n",
       "      <td>Yes</td>\n",
       "      <td>51.404543</td>\n",
       "      <td>0.014195</td>\n",
       "      <td>540197</td>\n",
       "      <td>169204</td>\n",
       "      <td>TQ401692</td>\n",
       "      <td>Greater London</td>\n",
       "      <td>Bromley</td>\n",
       "      <td>Bromley Town</td>\n",
       "      <td>...</td>\n",
       "      <td>Bromley North</td>\n",
       "      <td>0.462939</td>\n",
       "      <td>BR</td>\n",
       "      <td>BR1</td>\n",
       "      <td>Metropolitan Police</td>\n",
       "      <td>Thames Water</td>\n",
       "      <td>9F32C237+RM</td>\n",
       "      <td>63100</td>\n",
       "      <td>NaN</td>\n",
       "      <td>London</td>\n",
       "    </tr>\n",
       "    <tr>\n",
       "      <th>4</th>\n",
       "      <td>BR1 1AF</td>\n",
       "      <td>Yes</td>\n",
       "      <td>51.401392</td>\n",
       "      <td>0.014948</td>\n",
       "      <td>540259</td>\n",
       "      <td>168855</td>\n",
       "      <td>TQ402688</td>\n",
       "      <td>Greater London</td>\n",
       "      <td>Bromley</td>\n",
       "      <td>Bromley Town</td>\n",
       "      <td>...</td>\n",
       "      <td>Bromley South</td>\n",
       "      <td>0.227664</td>\n",
       "      <td>BR</td>\n",
       "      <td>BR1</td>\n",
       "      <td>Metropolitan Police</td>\n",
       "      <td>Thames Water</td>\n",
       "      <td>9F32C227+HX</td>\n",
       "      <td>63100</td>\n",
       "      <td>NaN</td>\n",
       "      <td>London</td>\n",
       "    </tr>\n",
       "  </tbody>\n",
       "</table>\n",
       "<p>5 rows × 49 columns</p>\n",
       "</div>"
      ],
      "text/plain": [
       "  Postcode In Use?   Latitude  Longitude  Easting  Northing  Grid Ref  \\\n",
       "0  BR1 1AA     Yes  51.401546   0.015415   540291    168873  TQ402688   \n",
       "1  BR1 1AB     Yes  51.406333   0.015208   540262    169405  TQ402694   \n",
       "2  BR1 1AD      No  51.400057   0.016715   540386    168710  TQ403687   \n",
       "3  BR1 1AE     Yes  51.404543   0.014195   540197    169204  TQ401692   \n",
       "4  BR1 1AF     Yes  51.401392   0.014948   540259    168855  TQ402688   \n",
       "\n",
       "           County District          Ward  ... Nearest station  \\\n",
       "0  Greater London  Bromley  Bromley Town  ...   Bromley South   \n",
       "1  Greater London  Bromley  Bromley Town  ...   Bromley North   \n",
       "2  Greater London  Bromley  Bromley Town  ...   Bromley South   \n",
       "3  Greater London  Bromley  Bromley Town  ...   Bromley North   \n",
       "4  Greater London  Bromley  Bromley Town  ...   Bromley South   \n",
       "\n",
       "  Distance to station Postcode area Postcode district         Police force  \\\n",
       "0            0.218257            BR               BR1  Metropolitan Police   \n",
       "1            0.253666            BR               BR1  Metropolitan Police   \n",
       "2            0.044559            BR               BR1  Metropolitan Police   \n",
       "3            0.462939            BR               BR1  Metropolitan Police   \n",
       "4            0.227664            BR               BR1  Metropolitan Police   \n",
       "\n",
       "  Water company    Plus Code Average Income  Sewage Company  \\\n",
       "0  Thames Water  9F32C228+J5          63100             NaN   \n",
       "1  Thames Water  9F32C248+G3          56100             NaN   \n",
       "2           NaN  9F32C228+2M          63100             NaN   \n",
       "3  Thames Water  9F32C237+RM          63100             NaN   \n",
       "4  Thames Water  9F32C227+HX          63100             NaN   \n",
       "\n",
       "   Travel To Work Area  \n",
       "0               London  \n",
       "1               London  \n",
       "2               London  \n",
       "3               London  \n",
       "4               London  \n",
       "\n",
       "[5 rows x 49 columns]"
      ]
     },
     "execution_count": 6,
     "metadata": {},
     "output_type": "execute_result"
    }
   ],
   "source": [
    "df.head()"
   ]
  },
  {
   "cell_type": "code",
   "execution_count": 7,
   "metadata": {},
   "outputs": [
    {
     "data": {
      "text/plain": [
       "Index(['Postcode', 'In Use?', 'Latitude', 'Longitude', 'Easting', 'Northing',\n",
       "       'Grid Ref', 'County', 'District', 'Ward', 'District Code', 'Ward Code',\n",
       "       'Country', 'County Code', 'Constituency', 'Introduced', 'Terminated',\n",
       "       'Parish', 'National Park', 'Population', 'Households', 'Built up area',\n",
       "       'Built up sub-division', 'Lower layer super output area', 'Rural/urban',\n",
       "       'Region', 'Altitude', 'London zone', 'LSOA Code', 'Local authority',\n",
       "       'MSOA Code', 'Middle layer super output area', 'Parish Code',\n",
       "       'Census output area', 'Constituency Code',\n",
       "       'Index of Multiple Deprivation', 'Quality', 'User Type', 'Last updated',\n",
       "       'Nearest station', 'Distance to station', 'Postcode area',\n",
       "       'Postcode district', 'Police force', 'Water company', 'Plus Code',\n",
       "       'Average Income', 'Sewage Company', 'Travel To Work Area'],\n",
       "      dtype='object')"
      ]
     },
     "execution_count": 7,
     "metadata": {},
     "output_type": "execute_result"
    }
   ],
   "source": [
    "df.columns"
   ]
  },
  {
   "cell_type": "code",
   "execution_count": 8,
   "metadata": {},
   "outputs": [],
   "source": [
    "rides = pd.DataFrame(columns=['driver_id', 'client_id',\\\n",
    "                              'start', 'start_latitude', 'start_longtitude', \\\n",
    "                              'finish', 'finish_latitude', 'finish_longtitude', \\\n",
    "                              'distance', 'road_time', 'start_time', 'finish_time', 'cost', \\\n",
    "                              'driver_rate', 'category_driver_feedback', 'text_driver_feedback',\\\n",
    "                             'client_rate', 'category_client_feedback', 'text_client_feedback'])\n",
    "NUM_RIDES = 5000000"
   ]
  },
  {
   "cell_type": "markdown",
   "metadata": {},
   "source": [
    "Drivers and clients id's"
   ]
  },
  {
   "cell_type": "code",
   "execution_count": 9,
   "metadata": {},
   "outputs": [],
   "source": [
    "rides['driver_id'] = np.random.randint(low=0, high=2500, size=NUM_RIDES)\n",
    "rides['client_id'] = np.random.randint(low=0, high=4500, size=NUM_RIDES)"
   ]
  },
  {
   "cell_type": "markdown",
   "metadata": {},
   "source": [
    "Start and finish points"
   ]
  },
  {
   "cell_type": "code",
   "execution_count": 10,
   "metadata": {},
   "outputs": [],
   "source": [
    "rides[['start', 'start_latitude', 'start_longtitude']] = df[['Postcode', 'Latitude', 'Longitude']].sample(n=NUM_RIDES, replace=True).reset_index(drop=True)"
   ]
  },
  {
   "cell_type": "code",
   "execution_count": 11,
   "metadata": {},
   "outputs": [],
   "source": [
    "rides[['finish', 'finish_latitude', 'finish_longtitude']] = df[['Postcode', 'Latitude', 'Longitude']].sample(n=NUM_RIDES, replace=True).reset_index(drop=True)"
   ]
  },
  {
   "cell_type": "markdown",
   "metadata": {},
   "source": [
    "Start time"
   ]
  },
  {
   "cell_type": "code",
   "execution_count": 12,
   "metadata": {},
   "outputs": [],
   "source": [
    "def random_dates(start, end, n=10):\n",
    "    start_u = start.value//10**9\n",
    "    end_u = end.value//10**9\n",
    "    return pd.to_datetime(np.random.randint(start_u, end_u, n), unit='s')\n",
    "\n",
    "start = pd.to_datetime('2010-01-01')\n",
    "end = pd.to_datetime('2020-01-01')\n",
    "rides['start_time'] = random_dates(start, end, NUM_RIDES)"
   ]
  },
  {
   "cell_type": "markdown",
   "metadata": {},
   "source": [
    "Distance between start and finish points"
   ]
  },
  {
   "cell_type": "code",
   "execution_count": 13,
   "metadata": {},
   "outputs": [
    {
     "data": {
      "application/vnd.jupyter.widget-view+json": {
       "model_id": "601c66ff4e8645b8bd52c204e38eafdd",
       "version_major": 2,
       "version_minor": 0
      },
      "text/plain": [
       "HBox(children=(FloatProgress(value=0.0, max=5000000.0), HTML(value='')))"
      ]
     },
     "metadata": {},
     "output_type": "display_data"
    },
    {
     "name": "stdout",
     "output_type": "stream",
     "text": [
      "\n"
     ]
    }
   ],
   "source": [
    "rides['distance'] = [geodesic((x1, y1), (x2, y2)).km for x1, y1, x2, y2 in tqdm(zip(rides['start_latitude'], \\\n",
    "                                                                                              rides['start_longtitude'], \\\n",
    "                                                                                              rides['finish_latitude'], \\\n",
    "                                                                                              rides['finish_longtitude']), total=NUM_RIDES)]\n",
    "rides['distance'] = rides['distance'].round(2)"
   ]
  },
  {
   "cell_type": "markdown",
   "metadata": {},
   "source": [
    "Calculate road time"
   ]
  },
  {
   "cell_type": "code",
   "execution_count": 14,
   "metadata": {},
   "outputs": [],
   "source": [
    "rides['road_time'] = abs(np.random.normal(size=NUM_RIDES, scale=10)) + rides['distance'] * abs(np.random.normal(size=NUM_RIDES, loc=1, scale=0.25))\n",
    "rides['road_time'] = rides['road_time'].astype('int')\n",
    "rides['road_time'] = pd.to_timedelta(rides['road_time'], unit='m')"
   ]
  },
  {
   "cell_type": "markdown",
   "metadata": {},
   "source": [
    "Calculate finish time"
   ]
  },
  {
   "cell_type": "code",
   "execution_count": 15,
   "metadata": {},
   "outputs": [],
   "source": [
    "rides['finish_time'] = rides['start_time'] + rides['road_time']"
   ]
  },
  {
   "cell_type": "markdown",
   "metadata": {},
   "source": [
    "Calculate cost of the ride"
   ]
  },
  {
   "cell_type": "code",
   "execution_count": 16,
   "metadata": {},
   "outputs": [
    {
     "data": {
      "application/vnd.jupyter.widget-view+json": {
       "model_id": "6ae321d068f0404b99e7f4f7435adc6a",
       "version_major": 2,
       "version_minor": 0
      },
      "text/plain": [
       "HBox(children=(FloatProgress(value=0.0, max=5000000.0), HTML(value='')))"
      ]
     },
     "metadata": {},
     "output_type": "display_data"
    },
    {
     "name": "stdout",
     "output_type": "stream",
     "text": [
      "\n"
     ]
    }
   ],
   "source": [
    "def count_cost(start_time, distance):\n",
    "    cost = 2 + 0.5 * distance\n",
    "    if (start_time.hour >= 8 and start_time.hour <= 9) or \\\n",
    "        (start_time.hour >= 18 and start_time.hour <= 19):\n",
    "        cost *= 1.5\n",
    "    if (start_time.hour >= 22 or start_time.hour <= 6):\n",
    "        cost *= 1.3\n",
    "    return cost\n",
    "    \n",
    "rides['cost'] = [count_cost(s, d) for s, d in tqdm(zip(rides.start_time, rides.distance), total=NUM_RIDES)]\n",
    "rides['cost'] = rides['cost'].round(2)"
   ]
  },
  {
   "cell_type": "markdown",
   "metadata": {},
   "source": [
    "Drivers rates"
   ]
  },
  {
   "cell_type": "code",
   "execution_count": 17,
   "metadata": {},
   "outputs": [],
   "source": [
    "driver_rate_idx = np.random.randint(low=0, high=NUM_RIDES, size=int(NUM_RIDES*0.3))\n",
    "driver_rate_distribution_arr = np.random.multinomial(1, [0.2, 0.05, 0.1, 0.25, 0.4], size=int(NUM_RIDES*0.3))\n",
    "rides['driver_rate'][driver_rate_idx] = np.where(driver_rate_distribution_arr == 1)[1] + 1"
   ]
  },
  {
   "cell_type": "code",
   "execution_count": 18,
   "metadata": {},
   "outputs": [],
   "source": [
    "driver_feedback_categories_good = ['great service', 'nice car', 'wonderful companion', 'neat and tidy', 'expert navigation', 'recommend']\n",
    "driver_feedback_categories_bad = ['awful service', 'bad car', 'unpleasant companion', 'dirty', 'non-expert navigation', 'not recommend']"
   ]
  },
  {
   "cell_type": "code",
   "execution_count": 19,
   "metadata": {},
   "outputs": [],
   "source": [
    "category_driver_good_feedback_idx = np.random.choice(rides[rides.driver_rate > 3].index, size=int(NUM_RIDES*0.3*0.2))\n",
    "rides[\"category_driver_feedback\"][category_driver_good_feedback_idx] = np.random.choice(driver_feedback_categories_good, size=int(NUM_RIDES*0.3*0.2))\n",
    "\n",
    "category_driver_bad_feedback_idx = np.random.choice(rides[rides.driver_rate < 4].index, size=int(NUM_RIDES*0.3*0.2))\n",
    "rides[\"category_driver_feedback\"][category_driver_bad_feedback_idx] = np.random.choice(driver_feedback_categories_bad, size=int(NUM_RIDES*0.3*0.2))"
   ]
  },
  {
   "cell_type": "code",
   "execution_count": 20,
   "metadata": {},
   "outputs": [],
   "source": [
    "text_good_feedback_driver_length = np.random.randint(low=0, high=7, size=int(NUM_RIDES*0.3*0.2))\n",
    "text_good_feedback_driver_sample = [random.sample(driver_feedback_categories_good, i) for i in text_good_feedback_driver_length]\n",
    "rides['text_driver_feedback'][category_driver_good_feedback_idx] = text_good_feedback_driver_sample\n",
    "\n",
    "text_bad_feedback_driver_length = np.random.randint(low=0, high=7, size=int(NUM_RIDES*0.3*0.2))\n",
    "text_bad_feedback_driver_sample = [random.sample(driver_feedback_categories_bad, i) for i in text_bad_feedback_driver_length]\n",
    "rides['text_driver_feedback'][category_driver_bad_feedback_idx] = text_bad_feedback_driver_sample"
   ]
  },
  {
   "cell_type": "markdown",
   "metadata": {},
   "source": [
    "Clients rates"
   ]
  },
  {
   "cell_type": "code",
   "execution_count": 21,
   "metadata": {},
   "outputs": [],
   "source": [
    "client_rate_idx = np.random.randint(low=0, high=NUM_RIDES, size=int(NUM_RIDES*0.5))\n",
    "client_rate_distribution_arr = np.random.multinomial(1, [0.2, 0.05, 0.1, 0.25, 0.4], size=int(NUM_RIDES*0.5))\n",
    "rides['client_rate'][client_rate_idx] = np.where(client_rate_distribution_arr == 1)[1] + 1"
   ]
  },
  {
   "cell_type": "code",
   "execution_count": 22,
   "metadata": {},
   "outputs": [],
   "source": [
    "client_feedback_categories_good = ['polite', 'pleasant', 'quiet', 'neat and tidy', 'recommend']\n",
    "client_feedback_categories_bad = ['unpolite', 'unpleasant', 'loud', 'dirty','not recommend']"
   ]
  },
  {
   "cell_type": "code",
   "execution_count": 23,
   "metadata": {},
   "outputs": [],
   "source": [
    "category_client_good_feedback_idx = np.random.choice(rides[rides.client_rate > 3].index, size=int(NUM_RIDES*0.3*0.2))\n",
    "rides[\"category_client_feedback\"][category_client_good_feedback_idx] = np.random.choice(client_feedback_categories_good, size=int(NUM_RIDES*0.3*0.2))\n",
    "\n",
    "category_client_bad_feedback_idx = np.random.choice(rides[rides.client_rate < 4].index, size=int(NUM_RIDES*0.3*0.2))\n",
    "rides[\"category_client_feedback\"][category_client_bad_feedback_idx] = np.random.choice(client_feedback_categories_bad, size=int(NUM_RIDES*0.3*0.2))"
   ]
  },
  {
   "cell_type": "code",
   "execution_count": 24,
   "metadata": {},
   "outputs": [],
   "source": [
    "text_good_feedback_client_length = np.random.randint(low=0, high=6, size=int(NUM_RIDES*0.3*0.2))\n",
    "text_good_feedback_client_sample = [random.sample(client_feedback_categories_good, i) for i in text_good_feedback_client_length]\n",
    "rides['text_client_feedback'][category_client_good_feedback_idx] = text_good_feedback_client_sample\n",
    "\n",
    "text_bad_feedback_client_length = np.random.randint(low=0, high=6, size=int(NUM_RIDES*0.3*0.2))\n",
    "text_bad_feedback_client_sample = [random.sample(client_feedback_categories_good, i) for i in text_bad_feedback_client_length]\n",
    "rides['text_client_feedback'][category_client_good_feedback_idx] = text_bad_feedback_client_sample"
   ]
  },
  {
   "cell_type": "code",
   "execution_count": 25,
   "metadata": {},
   "outputs": [
    {
     "data": {
      "text/html": [
       "<div>\n",
       "<style scoped>\n",
       "    .dataframe tbody tr th:only-of-type {\n",
       "        vertical-align: middle;\n",
       "    }\n",
       "\n",
       "    .dataframe tbody tr th {\n",
       "        vertical-align: top;\n",
       "    }\n",
       "\n",
       "    .dataframe thead th {\n",
       "        text-align: right;\n",
       "    }\n",
       "</style>\n",
       "<table border=\"1\" class=\"dataframe\">\n",
       "  <thead>\n",
       "    <tr style=\"text-align: right;\">\n",
       "      <th></th>\n",
       "      <th>driver_id</th>\n",
       "      <th>client_id</th>\n",
       "      <th>start</th>\n",
       "      <th>start_latitude</th>\n",
       "      <th>start_longtitude</th>\n",
       "      <th>finish</th>\n",
       "      <th>finish_latitude</th>\n",
       "      <th>finish_longtitude</th>\n",
       "      <th>distance</th>\n",
       "      <th>road_time</th>\n",
       "      <th>start_time</th>\n",
       "      <th>finish_time</th>\n",
       "      <th>cost</th>\n",
       "      <th>driver_rate</th>\n",
       "      <th>category_driver_feedback</th>\n",
       "      <th>text_driver_feedback</th>\n",
       "      <th>client_rate</th>\n",
       "      <th>category_client_feedback</th>\n",
       "      <th>text_client_feedback</th>\n",
       "    </tr>\n",
       "  </thead>\n",
       "  <tbody>\n",
       "    <tr>\n",
       "      <th>0</th>\n",
       "      <td>1712</td>\n",
       "      <td>4304</td>\n",
       "      <td>N7 9BF</td>\n",
       "      <td>51.547105</td>\n",
       "      <td>-0.120730</td>\n",
       "      <td>SE10 9GH</td>\n",
       "      <td>51.481154</td>\n",
       "      <td>-0.011670</td>\n",
       "      <td>10.54</td>\n",
       "      <td>0 days 00:08:00</td>\n",
       "      <td>2014-09-30 10:34:14</td>\n",
       "      <td>2014-09-30 10:42:14</td>\n",
       "      <td>7.27</td>\n",
       "      <td>NaN</td>\n",
       "      <td>NaN</td>\n",
       "      <td>NaN</td>\n",
       "      <td>5</td>\n",
       "      <td>NaN</td>\n",
       "      <td>NaN</td>\n",
       "    </tr>\n",
       "    <tr>\n",
       "      <th>1</th>\n",
       "      <td>1355</td>\n",
       "      <td>3004</td>\n",
       "      <td>HA7 3NF</td>\n",
       "      <td>51.615673</td>\n",
       "      <td>-0.331458</td>\n",
       "      <td>CR4 1NR</td>\n",
       "      <td>51.412686</td>\n",
       "      <td>-0.148536</td>\n",
       "      <td>25.91</td>\n",
       "      <td>0 days 00:21:00</td>\n",
       "      <td>2012-12-15 06:44:11</td>\n",
       "      <td>2012-12-15 07:05:11</td>\n",
       "      <td>19.44</td>\n",
       "      <td>NaN</td>\n",
       "      <td>NaN</td>\n",
       "      <td>NaN</td>\n",
       "      <td>NaN</td>\n",
       "      <td>NaN</td>\n",
       "      <td>NaN</td>\n",
       "    </tr>\n",
       "    <tr>\n",
       "      <th>2</th>\n",
       "      <td>1919</td>\n",
       "      <td>3797</td>\n",
       "      <td>SM6 0XX</td>\n",
       "      <td>51.360296</td>\n",
       "      <td>-0.150894</td>\n",
       "      <td>N1 8XL</td>\n",
       "      <td>51.533075</td>\n",
       "      <td>-0.105534</td>\n",
       "      <td>19.48</td>\n",
       "      <td>0 days 00:23:00</td>\n",
       "      <td>2011-08-28 23:24:23</td>\n",
       "      <td>2011-08-28 23:47:23</td>\n",
       "      <td>15.26</td>\n",
       "      <td>NaN</td>\n",
       "      <td>NaN</td>\n",
       "      <td>NaN</td>\n",
       "      <td>4</td>\n",
       "      <td>NaN</td>\n",
       "      <td>NaN</td>\n",
       "    </tr>\n",
       "    <tr>\n",
       "      <th>3</th>\n",
       "      <td>1438</td>\n",
       "      <td>4477</td>\n",
       "      <td>SE13 7XT</td>\n",
       "      <td>51.459240</td>\n",
       "      <td>-0.013354</td>\n",
       "      <td>BR3 2HL</td>\n",
       "      <td>51.409991</td>\n",
       "      <td>-0.018955</td>\n",
       "      <td>5.49</td>\n",
       "      <td>0 days 00:19:00</td>\n",
       "      <td>2017-06-14 01:18:15</td>\n",
       "      <td>2017-06-14 01:37:15</td>\n",
       "      <td>6.17</td>\n",
       "      <td>NaN</td>\n",
       "      <td>NaN</td>\n",
       "      <td>NaN</td>\n",
       "      <td>NaN</td>\n",
       "      <td>NaN</td>\n",
       "      <td>NaN</td>\n",
       "    </tr>\n",
       "    <tr>\n",
       "      <th>4</th>\n",
       "      <td>1930</td>\n",
       "      <td>1618</td>\n",
       "      <td>SW2 4PG</td>\n",
       "      <td>51.440297</td>\n",
       "      <td>-0.135707</td>\n",
       "      <td>IG2 6QA</td>\n",
       "      <td>51.575109</td>\n",
       "      <td>0.079599</td>\n",
       "      <td>21.18</td>\n",
       "      <td>0 days 00:17:00</td>\n",
       "      <td>2019-05-29 02:51:19</td>\n",
       "      <td>2019-05-29 03:08:19</td>\n",
       "      <td>16.37</td>\n",
       "      <td>NaN</td>\n",
       "      <td>NaN</td>\n",
       "      <td>NaN</td>\n",
       "      <td>NaN</td>\n",
       "      <td>NaN</td>\n",
       "      <td>NaN</td>\n",
       "    </tr>\n",
       "  </tbody>\n",
       "</table>\n",
       "</div>"
      ],
      "text/plain": [
       "   driver_id  client_id     start  start_latitude  start_longtitude    finish  \\\n",
       "0       1712       4304    N7 9BF       51.547105         -0.120730  SE10 9GH   \n",
       "1       1355       3004   HA7 3NF       51.615673         -0.331458   CR4 1NR   \n",
       "2       1919       3797   SM6 0XX       51.360296         -0.150894    N1 8XL   \n",
       "3       1438       4477  SE13 7XT       51.459240         -0.013354   BR3 2HL   \n",
       "4       1930       1618   SW2 4PG       51.440297         -0.135707   IG2 6QA   \n",
       "\n",
       "   finish_latitude  finish_longtitude  distance       road_time  \\\n",
       "0        51.481154          -0.011670     10.54 0 days 00:08:00   \n",
       "1        51.412686          -0.148536     25.91 0 days 00:21:00   \n",
       "2        51.533075          -0.105534     19.48 0 days 00:23:00   \n",
       "3        51.409991          -0.018955      5.49 0 days 00:19:00   \n",
       "4        51.575109           0.079599     21.18 0 days 00:17:00   \n",
       "\n",
       "           start_time         finish_time   cost driver_rate  \\\n",
       "0 2014-09-30 10:34:14 2014-09-30 10:42:14   7.27         NaN   \n",
       "1 2012-12-15 06:44:11 2012-12-15 07:05:11  19.44         NaN   \n",
       "2 2011-08-28 23:24:23 2011-08-28 23:47:23  15.26         NaN   \n",
       "3 2017-06-14 01:18:15 2017-06-14 01:37:15   6.17         NaN   \n",
       "4 2019-05-29 02:51:19 2019-05-29 03:08:19  16.37         NaN   \n",
       "\n",
       "  category_driver_feedback text_driver_feedback client_rate  \\\n",
       "0                      NaN                  NaN           5   \n",
       "1                      NaN                  NaN         NaN   \n",
       "2                      NaN                  NaN           4   \n",
       "3                      NaN                  NaN         NaN   \n",
       "4                      NaN                  NaN         NaN   \n",
       "\n",
       "  category_client_feedback text_client_feedback  \n",
       "0                      NaN                  NaN  \n",
       "1                      NaN                  NaN  \n",
       "2                      NaN                  NaN  \n",
       "3                      NaN                  NaN  \n",
       "4                      NaN                  NaN  "
      ]
     },
     "execution_count": 25,
     "metadata": {},
     "output_type": "execute_result"
    }
   ],
   "source": [
    "rides.head()"
   ]
  },
  {
   "cell_type": "code",
   "execution_count": 26,
   "metadata": {},
   "outputs": [],
   "source": [
    "rides.to_csv(\"rides.csv\")"
   ]
  },
  {
   "cell_type": "code",
   "execution_count": null,
   "metadata": {},
   "outputs": [],
   "source": []
  }
 ],
 "metadata": {
  "kernelspec": {
   "display_name": "Python 3",
   "language": "python",
   "name": "python3"
  },
  "language_info": {
   "codemirror_mode": {
    "name": "ipython",
    "version": 3
   },
   "file_extension": ".py",
   "mimetype": "text/x-python",
   "name": "python",
   "nbconvert_exporter": "python",
   "pygments_lexer": "ipython3",
   "version": "3.7.8"
  }
 },
 "nbformat": 4,
 "nbformat_minor": 4
}
